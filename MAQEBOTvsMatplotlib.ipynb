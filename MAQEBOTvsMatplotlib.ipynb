{
  "nbformat": 4,
  "nbformat_minor": 0,
  "metadata": {
    "colab": {
      "name": "MAQEBOTvsMatplotlib.ipynb",
      "provenance": [],
      "authorship_tag": "ABX9TyPr7enCBf1R/S6fHnU8OHo3"
    },
    "kernelspec": {
      "name": "python3",
      "display_name": "Python 3"
    }
  },
  "cells": [
    {
      "cell_type": "code",
      "metadata": {
        "id": "ssXe5gidyTzI",
        "colab_type": "code",
        "colab": {}
      },
      "source": [
        "import matplotlib.pyplot as plt\n",
        "%matplotlib inline"
      ],
      "execution_count": 0,
      "outputs": []
    },
    {
      "cell_type": "code",
      "metadata": {
        "id": "iL_3aEafun5G",
        "colab_type": "code",
        "colab": {
          "base_uri": "https://localhost:8080/",
          "height": 314
        },
        "outputId": "b332e685-e6a6-401e-83fc-553ce9fa5b85"
      },
      "source": [
        "#by Upinus BOT\n",
        "#for DEEN's Python Matplotlib homework.\n",
        "\n",
        "import re\n",
        "\n",
        "pointer_value = {\n",
        "    0: \"North\",\n",
        "    1: \"East\",\n",
        "    2: \"South\",\n",
        "    3: \"West\"\n",
        "}\n",
        "\n",
        "def parse_step(step_str):\n",
        "        # validate input\n",
        "        if not isinstance(step_str, str):\n",
        "            raise ValueError(\"step_str should be string type, not {}\".format(type(str)))\n",
        "\n",
        "        # init setting\n",
        "        pointer_facing = 0\n",
        "        count_w = -1    # number W in for loop\n",
        "        real_position = {\n",
        "            \"North\": 0,\n",
        "            \"East\": 0,\n",
        "            \"South\": 0,\n",
        "            \"West\": 0\n",
        "        }\n",
        "\n",
        "        # get all numberic value\n",
        "        step = re.findall('\\d+', step_str)\n",
        "        step = list(map(int, step))\n",
        "\n",
        "        for i in step_str:\n",
        "            if i == \"R\":\n",
        "                pointer_facing = (pointer_facing + 1) % 4\n",
        "            if i == \"L\":\n",
        "                pointer_facing = (pointer_facing - 1) % 4\n",
        "            if i == \"W\":\n",
        "                count_w += 1\n",
        "                facing_direction = pointer_value[pointer_facing]\n",
        "                last_poisition = real_position[facing_direction]\n",
        "                now_poisition = last_poisition + step[count_w]\n",
        "                real_position.update({facing_direction: now_poisition})\n",
        "\n",
        "        # convert to {X:Y}\n",
        "        global x_value,y_value\n",
        "        x_value = real_position[\"East\"] - real_position[\"West\"]\n",
        "        y_value = real_position[\"North\"] - real_position[\"South\"]\n",
        "        real_direation = pointer_value[pointer_facing]\n",
        "\n",
        "        # report\n",
        "        report = \"X: {}, Y: {}, Direction: {}\".format(x_value, y_value, real_direation)\n",
        "        print(report)\n",
        "\n",
        "        return report\n",
        "\n",
        "parse_step('RW15RW1')\n",
        "print(x_value, y_value)\n",
        "\n",
        "x_value = -1\n",
        "y_value = 15\n",
        "plt.scatter(x_value,y_value,c='r')\n",
        "plt.xlabel('X')\n",
        "plt.ylabel('Y')\n",
        "plt.show()"
      ],
      "execution_count": 27,
      "outputs": [
        {
          "output_type": "stream",
          "text": [
            "X: 15, Y: -1, Direction: South\n",
            "15 -1\n"
          ],
          "name": "stdout"
        },
        {
          "output_type": "display_data",
          "data": {
            "image/png": "[encoded data removed]",
            "text/plain": [
              "<Figure size 432x288 with 1 Axes>"
            ]
          },
          "metadata": {
            "tags": [],
            "needs_background": "light"
          }
        }
      ]
    }
  ]
}